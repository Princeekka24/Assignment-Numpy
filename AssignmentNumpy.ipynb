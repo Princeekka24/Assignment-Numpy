{
 "cells": [
  {
   "cell_type": "markdown",
   "id": "b69bfb04",
   "metadata": {},
   "source": [
    "# Theoretical Questions"
   ]
  },
  {
   "cell_type": "markdown",
   "id": "0a3b66a1",
   "metadata": {},
   "source": [
    "# 1)  Explain the purpose and advantages of NumPy in scientific computing and data analysis. How does it enhance Python's capabilities for numerical operations?"
   ]
  },
  {
   "cell_type": "markdown",
   "id": "cd917026",
   "metadata": {},
   "source": [
    "NumPy (Numerical Python) provides an efficient framework for handling large arrays and matrices of numeric data, along with a large collection of high-level mathematical functions to operate on these arrays. Key advantages include:\n",
    "\n",
    "Performance: NumPy is implemented in C, making its operations faster than standard Python lists for numerical computations.\n",
    "Memory Efficiency: Arrays in NumPy use much less memory than Python lists due to the fixed type and compact memory layout.\n",
    "Vectorized Operations: NumPy allows element-wise operations, eliminating the need for loops.\n",
    "Interoperability: It integrates seamlessly with libraries like SciPy, Matplotlib, and Pandas, making it a cornerstone of the scientific Python ecosystem."
   ]
  },
  {
   "cell_type": "markdown",
   "id": "a57084ba",
   "metadata": {},
   "source": [
    "# 2) Compare and contrast np.mean() and np.average() functions in NumPy. When would you use one over the other?"
   ]
  },
  {
   "cell_type": "markdown",
   "id": "c5dc37cb",
   "metadata": {},
   "source": [
    "np.mean(): Calculates the arithmetic mean of elements along a given axis or for the entire array. It gives equal weight to all elements.\n",
    "\n",
    "np.average(): Also calculates the mean, but allows specifying weights to elements via the weights parameter.\n",
    "\n",
    "You would use:\n",
    "\n",
    "np.mean() for a simple mean calculation when all elements have the same significance.\n",
    "np.average() when you want a weighted mean, where some elements contribute more to the final average than others."
   ]
  },
  {
   "cell_type": "markdown",
   "id": "b303a951",
   "metadata": {},
   "source": [
    "# 3) Describe the methods for reversing a NumPy array along different axes. Provide examples for 1D and 2D arrays."
   ]
  },
  {
   "cell_type": "markdown",
   "id": "1e583238",
   "metadata": {},
   "source": [
    "1D Array: You can reverse using slicing [::-1]."
   ]
  },
  {
   "cell_type": "code",
   "execution_count": null,
   "id": "4f15d066",
   "metadata": {},
   "outputs": [],
   "source": [
    "arr = np.array([1, 2, 3, 4])\n",
    "reversed_arr = arr[::-1]"
   ]
  },
  {
   "cell_type": "markdown",
   "id": "00a649b9",
   "metadata": {},
   "source": [
    "2D Array: You can reverse rows or columns using np.flip() or axis-specific slicing."
   ]
  },
  {
   "cell_type": "code",
   "execution_count": 13,
   "id": "9fd1c26e",
   "metadata": {},
   "outputs": [],
   "source": [
    "arr_2d = np.array([[1, 2, 3], [4, 5, 6], [7, 8, 9]])\n",
    "reversed_rows = np.flip(arr_2d, axis=0)  \n",
    "reversed_columns = np.flip(arr_2d, axis=1)  "
   ]
  },
  {
   "cell_type": "markdown",
   "id": "1d3e40ac",
   "metadata": {},
   "source": [
    "# 4) How can you determine the data type of elements in a NumPy array? Discuss the importance of data types in memory management and performance."
   ]
  },
  {
   "cell_type": "markdown",
   "id": "e49845c2",
   "metadata": {},
   "source": [
    " can determine the data type of a NumPy array using the dtype attribute."
   ]
  },
  {
   "cell_type": "code",
   "execution_count": 14,
   "id": "d835eb92",
   "metadata": {},
   "outputs": [
    {
     "name": "stdout",
     "output_type": "stream",
     "text": [
      "int32\n"
     ]
    }
   ],
   "source": [
    "arr = np.array([1, 2, 3])\n",
    "print(arr.dtype)  "
   ]
  },
  {
   "cell_type": "markdown",
   "id": "921cf35a",
   "metadata": {},
   "source": [
    "Importance of data types:\n",
    "\n",
    "Memory Management: Smaller data types (e.g., int8 vs int64) use less memory, making computations more memory-efficient.\n",
    "Performance: Using the appropriate data type ensures faster computations as NumPy is optimized for fixed-type arrays."
   ]
  },
  {
   "cell_type": "markdown",
   "id": "4dc39692",
   "metadata": {},
   "source": [
    "# 5) Define ndarrays in NumPy and explain their key features. How do they differ from standard Python lists?"
   ]
  },
  {
   "cell_type": "markdown",
   "id": "3df2ae8f",
   "metadata": {},
   "source": [
    "ndarray stands for N-dimensional array. Key features:\n",
    "\n",
    "Homogeneous data: All elements are of the same data type.\n",
    "Efficient memory layout: Continuous memory allocation improves access speed.\n",
    "Vectorized operations: Supports element-wise operations without loops.\n",
    "Dimension and shape: Arrays can be multi-dimensional (1D, 2D, 3D, etc.).\n",
    "Differences from Python lists:\n",
    "\n",
    "Lists are heterogeneous, while NumPy arrays are homogeneous.\n",
    "Lists are slower due to their flexibility and dynamic typing, whereas ndarray is optimized for numerical computations."
   ]
  },
  {
   "cell_type": "markdown",
   "id": "6c8971c7",
   "metadata": {},
   "source": [
    "# 6) Analyze the performance benefits of NumPy arrays over Python lists for large-scale numerical operations."
   ]
  },
  {
   "cell_type": "markdown",
   "id": "b68d270f",
   "metadata": {},
   "source": [
    "Speed: NumPy arrays are implemented in C, providing faster element access and mathematical operations.\n",
    "Vectorization: NumPy supports operations over entire arrays without the need for explicit loops, leveraging CPU-level optimizations.\n",
    "Memory Efficiency: Python lists store references to objects, which adds overhead. NumPy arrays store data directly in contiguous blocks of memory, reducing the overhead and improving memory locality."
   ]
  },
  {
   "cell_type": "markdown",
   "id": "068e1259",
   "metadata": {},
   "source": [
    "# 7) 7. Compare vstack() and hstack() functions in NumPy. Provide examples demonstrating their usage and output."
   ]
  },
  {
   "cell_type": "markdown",
   "id": "b796699a",
   "metadata": {},
   "source": [
    "vstack(): Vertically stacks arrays (along rows)."
   ]
  },
  {
   "cell_type": "code",
   "execution_count": 15,
   "id": "8599249e",
   "metadata": {},
   "outputs": [
    {
     "data": {
      "text/plain": [
       "array([[1, 2, 3],\n",
       "       [4, 5, 6]])"
      ]
     },
     "execution_count": 15,
     "metadata": {},
     "output_type": "execute_result"
    }
   ],
   "source": [
    "a = np.array([1, 2, 3])\n",
    "b = np.array([4, 5, 6])\n",
    "np.vstack((a, b)) "
   ]
  },
  {
   "cell_type": "markdown",
   "id": "659fdca7",
   "metadata": {},
   "source": [
    "hstack(): Horizontally stacks arrays (along columns)."
   ]
  },
  {
   "cell_type": "code",
   "execution_count": 16,
   "id": "515d5f24",
   "metadata": {},
   "outputs": [
    {
     "data": {
      "text/plain": [
       "array([1, 2, 3, 4, 5, 6])"
      ]
     },
     "execution_count": 16,
     "metadata": {},
     "output_type": "execute_result"
    }
   ],
   "source": [
    "a = np.array([1, 2, 3])\n",
    "b = np.array([4, 5, 6])\n",
    "np.hstack((a, b)) "
   ]
  },
  {
   "cell_type": "markdown",
   "id": "9b91abfa",
   "metadata": {},
   "source": [
    "# 8) Explain the differences between fliplr() and flipud() methods in NumPy, including their effects on various array dimensions."
   ]
  },
  {
   "cell_type": "markdown",
   "id": "5af5c4ac",
   "metadata": {},
   "source": [
    "fliplr(): Flips an array along its left-right axis (horizontally)."
   ]
  },
  {
   "cell_type": "code",
   "execution_count": 17,
   "id": "1124b47b",
   "metadata": {},
   "outputs": [
    {
     "data": {
      "text/plain": [
       "array([[2, 1],\n",
       "       [4, 3]])"
      ]
     },
     "execution_count": 17,
     "metadata": {},
     "output_type": "execute_result"
    }
   ],
   "source": [
    "arr = np.array([[1, 2], [3, 4]])\n",
    "np.fliplr(arr)  "
   ]
  },
  {
   "cell_type": "markdown",
   "id": "e866ce61",
   "metadata": {},
   "source": [
    "flipud(): Flips an array along its up-down axis (vertically)."
   ]
  },
  {
   "cell_type": "code",
   "execution_count": 18,
   "id": "9dff3004",
   "metadata": {},
   "outputs": [
    {
     "data": {
      "text/plain": [
       "array([[3, 4],\n",
       "       [1, 2]])"
      ]
     },
     "execution_count": 18,
     "metadata": {},
     "output_type": "execute_result"
    }
   ],
   "source": [
    "arr = np.array([[1, 2], [3, 4]])\n",
    "np.flipud(arr)  "
   ]
  },
  {
   "cell_type": "markdown",
   "id": "a16999c4",
   "metadata": {},
   "source": [
    "# 9) Discuss the functionality of the array_split() method in NumPy. How does it handle uneven splits?"
   ]
  },
  {
   "cell_type": "markdown",
   "id": "43c30831",
   "metadata": {},
   "source": [
    "The array_split() method divides an array into multiple sub-arrays. If the array cannot be split evenly, it creates sub-arrays with differing sizes, distributing the remainder elements as evenly as possible."
   ]
  },
  {
   "cell_type": "code",
   "execution_count": 19,
   "id": "125ed8fb",
   "metadata": {},
   "outputs": [
    {
     "data": {
      "text/plain": [
       "[array([1, 2]), array([3, 4]), array([5])]"
      ]
     },
     "execution_count": 19,
     "metadata": {},
     "output_type": "execute_result"
    }
   ],
   "source": [
    "arr = np.array([1, 2, 3, 4, 5])\n",
    "np.array_split(arr, 3) "
   ]
  },
  {
   "cell_type": "markdown",
   "id": "0c768007",
   "metadata": {},
   "source": [
    "# 10)  Explain the concepts of vectorization and broadcasting in NumPy. How do they contribute to efficient array operations?"
   ]
  },
  {
   "cell_type": "markdown",
   "id": "1a42e31c",
   "metadata": {},
   "source": [
    "Vectorization: The process of applying operations element-wise across entire arrays without explicit loops, making operations faster by leveraging low-level CPU instructions.\n",
    "\n",
    "Example: arr * 2 multiplies every element by 2 without needing a loop.\n",
    "\n",
    "Broadcasting: Enables operations on arrays of different shapes by automatically expanding smaller arrays to match the larger array’s shape."
   ]
  },
  {
   "cell_type": "code",
   "execution_count": 20,
   "id": "98632620",
   "metadata": {},
   "outputs": [
    {
     "data": {
      "text/plain": [
       "array([[2, 3, 4],\n",
       "       [3, 4, 5],\n",
       "       [4, 5, 6]])"
      ]
     },
     "execution_count": 20,
     "metadata": {},
     "output_type": "execute_result"
    }
   ],
   "source": [
    "arr = np.array([1, 2, 3])\n",
    "arr2 = np.array([[1], [2], [3]])\n",
    "arr + arr2"
   ]
  },
  {
   "cell_type": "markdown",
   "id": "f797366b",
   "metadata": {},
   "source": [
    "# Practical Questions"
   ]
  },
  {
   "cell_type": "markdown",
   "id": "d6e08e4c",
   "metadata": {},
   "source": [
    "# 1) Create a 3x3 NumPy array with random integers between 1 and 100. Then, interchange its rows and columns."
   ]
  },
  {
   "cell_type": "code",
   "execution_count": 22,
   "id": "a05fee70",
   "metadata": {},
   "outputs": [
    {
     "name": "stdout",
     "output_type": "stream",
     "text": [
      "[[ 4 27 54]\n",
      " [10 94 63]\n",
      " [42  5 67]]\n",
      "[[ 4 10 42]\n",
      " [27 94  5]\n",
      " [54 63 67]]\n"
     ]
    }
   ],
   "source": [
    "import numpy as np\n",
    "\n",
    "arr = np.random.randint(1, 101, size=(3, 3))\n",
    "print(arr)\n",
    "transposed_arr = arr.T\n",
    "print(transposed_arr)"
   ]
  },
  {
   "cell_type": "markdown",
   "id": "fc40defe",
   "metadata": {},
   "source": [
    "# 2) Generate a 1D NumPy array with 10 elements. Reshape it into a 2x5 array, then into a 5x2 array."
   ]
  },
  {
   "cell_type": "code",
   "execution_count": 23,
   "id": "a2087097",
   "metadata": {},
   "outputs": [],
   "source": [
    "arr = np.arange(10)\n",
    "reshaped_2x5 = arr.reshape(2, 5)\n",
    "reshaped_5x2 = arr.reshape(5, 2)"
   ]
  },
  {
   "cell_type": "markdown",
   "id": "a3c594a1",
   "metadata": {},
   "source": [
    "# 3)Create a 4x4 NumPy array with random float values. Add a border of zeros around it, resulting in a 6x6 array. Create a 4x4 NumPy array with random float values. Add a border of zeros around it, resulting in a 6x6 array."
   ]
  },
  {
   "cell_type": "code",
   "execution_count": 24,
   "id": "ff487a16",
   "metadata": {},
   "outputs": [],
   "source": [
    "arr = np.random.rand(4, 4)\n",
    "bordered_arr = np.pad(arr, pad_width=1, mode='constant', constant_values=0)"
   ]
  },
  {
   "cell_type": "markdown",
   "id": "630d586a",
   "metadata": {},
   "source": [
    "# 4) Using NumPy, create an array of integers from 10 to 60 with a step of 5."
   ]
  },
  {
   "cell_type": "code",
   "execution_count": 25,
   "id": "680a5ce3",
   "metadata": {},
   "outputs": [],
   "source": [
    "arr = np.arange(10, 61, 5)"
   ]
  },
  {
   "cell_type": "markdown",
   "id": "9633bf10",
   "metadata": {},
   "source": [
    "# 5) Create a NumPy array of strings ['python', 'numpy', 'pandas']. Apply different case transformations (uppercase, lowercase, title case, etc.) to each element."
   ]
  },
  {
   "cell_type": "code",
   "execution_count": 26,
   "id": "bda68761",
   "metadata": {},
   "outputs": [],
   "source": [
    "arr = np.array(['python', 'numpy', 'pandas'])\n",
    "uppercase = np.char.upper(arr)\n",
    "lowercase = np.char.lower(arr)\n",
    "titlecase = np.char.title(arr)"
   ]
  },
  {
   "cell_type": "markdown",
   "id": "04c74c3e",
   "metadata": {},
   "source": [
    "# 6) Generate a NumPy array of words. Insert a space between each character of every word in the array."
   ]
  },
  {
   "cell_type": "code",
   "execution_count": null,
   "id": "a80a79a5",
   "metadata": {},
   "outputs": [],
   "source": [
    "arr = np.array(['python', 'numpy', 'pandas'])\n",
    "spaced = np.char.join(' ', arr)"
   ]
  },
  {
   "cell_type": "markdown",
   "id": "5064a930",
   "metadata": {},
   "source": [
    "# 7) Create two 2D NumPy arrays and perform element-wise addition, subtraction, multiplication, and division."
   ]
  },
  {
   "cell_type": "code",
   "execution_count": 27,
   "id": "6a757d85",
   "metadata": {},
   "outputs": [],
   "source": [
    "arr1 = np.array([[1, 2], [3, 4]])\n",
    "arr2 = np.array"
   ]
  }
 ],
 "metadata": {
  "kernelspec": {
   "display_name": "Python 3 (ipykernel)",
   "language": "python",
   "name": "python3"
  },
  "language_info": {
   "codemirror_mode": {
    "name": "ipython",
    "version": 3
   },
   "file_extension": ".py",
   "mimetype": "text/x-python",
   "name": "python",
   "nbconvert_exporter": "python",
   "pygments_lexer": "ipython3",
   "version": "3.11.3"
  }
 },
 "nbformat": 4,
 "nbformat_minor": 5
}
